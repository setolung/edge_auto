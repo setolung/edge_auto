{
 "cells": [
  {
   "cell_type": "code",
   "execution_count": 6,
   "id": "154789da-ce79-4b8b-bf08-5f2423dd03f8",
   "metadata": {},
   "outputs": [],
   "source": [
    "import pyautogui\n",
    "import time"
   ]
  },
  {
   "cell_type": "code",
   "execution_count": 7,
   "id": "7944e371-5bac-44be-92ec-d77ed760743f",
   "metadata": {},
   "outputs": [],
   "source": [
    "time.sleep(5)"
   ]
  },
  {
   "cell_type": "code",
   "execution_count": 8,
   "id": "400c09ea-4eca-47b9-898c-e4b71ef7533b",
   "metadata": {},
   "outputs": [
    {
     "name": "stdout",
     "output_type": "stream",
     "text": [
      "Mouse position: X: 536, Y: 253\n"
     ]
    }
   ],
   "source": [
    "x, y = pyautogui.position()\n",
    "print(f\"Mouse position: X: {x}, Y: {y}\")"
   ]
  }
 ],
 "metadata": {
  "kernelspec": {
   "display_name": "Python 3 (ipykernel)",
   "language": "python",
   "name": "python3"
  },
  "language_info": {
   "codemirror_mode": {
    "name": "ipython",
    "version": 3
   },
   "file_extension": ".py",
   "mimetype": "text/x-python",
   "name": "python",
   "nbconvert_exporter": "python",
   "pygments_lexer": "ipython3",
   "version": "3.12.8"
  }
 },
 "nbformat": 4,
 "nbformat_minor": 5
}
