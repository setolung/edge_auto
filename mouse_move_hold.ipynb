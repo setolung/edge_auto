{
 "cells": [
  {
   "cell_type": "code",
   "execution_count": 23,
   "id": "6a6711c1-59b8-4f0d-a4b4-0f882fda036a",
   "metadata": {},
   "outputs": [
    {
     "name": "stdout",
     "output_type": "stream",
     "text": [
      "Mouse held and moved left and right five times at position (1908, 274)\n"
     ]
    }
   ],
   "source": [
    "import pyautogui\n",
    "import time\n",
    "\n",
    "time.sleep(5)\n",
    "# Move the mouse to the initial position\n",
    "pyautogui.moveTo(1330, 1286)\n",
    "\n",
    "pyautogui.mouseDown(button='left')  # Hold down left mouse button\n",
    "\n",
    "for _ in range(10):\n",
    "    pyautogui.moveRel(0, -80, duration=0.2)  # Move left while holding click\n",
    "    pyautogui.moveRel(0, 80, duration=0.2)   # Move right while holding click\n",
    "\n",
    "pyautogui.mouseUp(button='left')  # Release left mouse button\n",
    "\n",
    "print('Mouse held and moved left and right five times at position (1908, 274)')\n"
   ]
  },
  {
   "cell_type": "code",
   "execution_count": null,
   "id": "79ac2d49-1639-4534-9f5b-eddcfec880c9",
   "metadata": {},
   "outputs": [],
   "source": []
  },
  {
   "cell_type": "code",
   "execution_count": null,
   "id": "883466da-7e17-4ffa-ad16-6b73e454a4b8",
   "metadata": {},
   "outputs": [],
   "source": []
  }
 ],
 "metadata": {
  "kernelspec": {
   "display_name": "Python 3 (ipykernel)",
   "language": "python",
   "name": "python3"
  },
  "language_info": {
   "codemirror_mode": {
    "name": "ipython",
    "version": 3
   },
   "file_extension": ".py",
   "mimetype": "text/x-python",
   "name": "python",
   "nbconvert_exporter": "python",
   "pygments_lexer": "ipython3",
   "version": "3.12.8"
  }
 },
 "nbformat": 4,
 "nbformat_minor": 5
}
