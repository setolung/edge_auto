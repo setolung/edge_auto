{
 "cells": [
  {
   "cell_type": "code",
   "execution_count": 4,
   "id": "a1720f3a-acac-4035-ae1a-4d52f3375e78",
   "metadata": {},
   "outputs": [
    {
     "name": "stdout",
     "output_type": "stream",
     "text": [
      "Script will start in 5 seconds. Please focus on your Bing search window.\n",
      "Iteration 1 of 3\n",
      "Iteration 2 of 3\n",
      "Iteration 3 of 3\n"
     ]
    }
   ],
   "source": [
    "import pyautogui\n",
    "import random\n",
    "import time\n",
    "\n",
    "# Word categories for random phrase generation\n",
    "nouns = [\"cat\", \"dog\", \"bird\", \"tree\", \"house\", \"car\", \"book\", \"computer\", \"phone\", \"mountain\", \"river\", \"ocean\", \"sun\", \"moon\", \"star\"]\n",
    "verbs = [\"runs\", \"jumps\", \"sleeps\", \"eats\", \"flies\", \"swims\", \"reads\", \"writes\", \"sings\", \"dances\", \"thinks\", \"dreams\", \"explores\", \"creates\", \"invents\"]\n",
    "adjectives = [\"happy\", \"sad\", \"big\", \"small\", \"fast\", \"slow\", \"bright\", \"dark\", \"loud\", \"quiet\", \"soft\", \"hard\", \"hot\", \"cold\", \"shiny\"]\n",
    "adverbs = [\"quickly\", \"slowly\", \"loudly\", \"quietly\", \"carefully\", \"carelessly\", \"happily\", \"sadly\", \"brightly\", \"dimly\", \"softly\", \"roughly\", \"gently\", \"fiercely\", \"calmly\"]\n",
    "\n",
    "def generate_random_phrase():\n",
    "    structures = [\n",
    "        \"{adj} {noun} {verb} {adv}\",\n",
    "        \"The {adj} {noun} {verb}\",\n",
    "        \"{noun} {verb} {adv}\",\n",
    "        \"{adv}, the {noun} {verb}\",\n",
    "        \"{adj} {noun} {verb} the {noun}\"\n",
    "    ]\n",
    "    \n",
    "    structure = random.choice(structures)\n",
    "    \n",
    "    phrase = structure.format(\n",
    "        adj=random.choice(adjectives),\n",
    "        noun=random.choice(nouns),\n",
    "        verb=random.choice(verbs),\n",
    "        adv=random.choice(adverbs)\n",
    "    )\n",
    "    \n",
    "    return phrase.capitalize()\n",
    "\n",
    "def search_bing(repeat_count=3):\n",
    "    # Coordinates for the Bing search field (you may need to adjust these)\n",
    "    bing_search_field_x = 219  # Example X coordinate\n",
    "    bing_search_field_y = 187  # Example Y coordinate\n",
    "    \n",
    "    for i in range(repeat_count):\n",
    "        print(f\"Iteration {i + 1} of {repeat_count}\")  # Print the current iteration\n",
    "        \n",
    "        # Move the mouse to the Bing search field\n",
    "        pyautogui.moveTo(bing_search_field_x, bing_search_field_y, duration=1)\n",
    "        \n",
    "        # Click to focus the search field\n",
    "        pyautogui.click()\n",
    "        \n",
    "        # Clear the search field\n",
    "        pyautogui.hotkey('command', 'a')  # Select all text\n",
    "        pyautogui.press('backspace')      # Delete selected text\n",
    "        time.sleep(0.5)                # Wait for 0.5 seconds\n",
    "        \n",
    "        # Generate a random phrase\n",
    "        random_phrase = generate_random_phrase()\n",
    "        \n",
    "        # Type the random phrase into the search field\n",
    "        pyautogui.write(random_phrase, interval=0.1)\n",
    "        \n",
    "        # Press Enter to perform the search\n",
    "        pyautogui.press('enter')\n",
    "        \n",
    "        # Wait for 5 seconds before the next search\n",
    "        time.sleep(5)\n",
    "\n",
    "# Allow some time before executing the script\n",
    "print(\"Script will start in 5 seconds. Please focus on your Bing search window.\")\n",
    "time.sleep(5)  # Wait for 5 seconds before running the function\n",
    "\n",
    "# Run the search function\n",
    "search_bing()\n"
   ]
  },
  {
   "cell_type": "code",
   "execution_count": null,
   "id": "19c404ea-d9f1-4251-9f03-76d1bc7d829a",
   "metadata": {},
   "outputs": [],
   "source": []
  }
 ],
 "metadata": {
  "kernelspec": {
   "display_name": "Python 3 (ipykernel)",
   "language": "python",
   "name": "python3"
  },
  "language_info": {
   "codemirror_mode": {
    "name": "ipython",
    "version": 3
   },
   "file_extension": ".py",
   "mimetype": "text/x-python",
   "name": "python",
   "nbconvert_exporter": "python",
   "pygments_lexer": "ipython3",
   "version": "3.12.8"
  }
 },
 "nbformat": 4,
 "nbformat_minor": 5
}
